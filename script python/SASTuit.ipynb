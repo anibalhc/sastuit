{
 "cells": [
  {
   "cell_type": "code",
   "execution_count": 1,
   "metadata": {},
   "outputs": [],
   "source": [
    "#library\n",
    "import pandas as pd"
   ]
  },
  {
   "cell_type": "code",
   "execution_count": 2,
   "metadata": {},
   "outputs": [],
   "source": [
    "#import dataset\n",
    "TrainSet_tweets= pd.read_csv('TrainSet_tweets.csv',sep=',')\n",
    "ValidSet_tweets= pd.read_csv('ValidSet_tweets.csv',sep=',')"
   ]
  },
  {
   "cell_type": "code",
   "execution_count": 16,
   "metadata": {},
   "outputs": [
    {
     "name": "stdout",
     "output_type": "stream",
     "text": [
      "Datos de entrenamiento:(1825, 360)\n",
      "Datos de validación:(457, 360)\n"
     ]
    }
   ],
   "source": [
    "print('Data train:' + str(TrainSet_tweets.shape))\n",
    "\n",
    "print('Data valid:' + str(ValidSet_tweets.shape))"
   ]
  },
  {
   "cell_type": "code",
   "execution_count": 17,
   "metadata": {},
   "outputs": [],
   "source": [
    "# split data\n",
    "X_train = TrainSet_tweets.iloc[:, 0:359].values\n",
    "y_train = TrainSet_tweets.iloc[:, 359].values\n",
    "\n",
    "X_test = ValidSet_tweets.iloc[:, 0:359].values\n",
    "y_test = ValidSet_tweets.iloc[:, 359].values"
   ]
  },
  {
   "cell_type": "markdown",
   "metadata": {},
   "source": [
    "# Cross validation"
   ]
  },
  {
   "cell_type": "code",
   "execution_count": 14,
   "metadata": {},
   "outputs": [],
   "source": [
    "# Test options and evaluation metric\n",
    "seed = 7\n",
    "scoring = 'accuracy'"
   ]
  },
  {
   "cell_type": "code",
   "execution_count": 18,
   "metadata": {},
   "outputs": [
    {
     "name": "stdout",
     "output_type": "stream",
     "text": [
      "NB: 87.111932 (0.054465)\n",
      "Boosting: 86.390140 (0.088064)\n",
      "LogisticRegression: 86.890350 (0.063791)\n",
      "DTree: 80.549150 (0.028670)\n",
      "RandomF: 85.256110 (0.035090)\n",
      "SVM: 76.435477 (0.232609)\n"
     ]
    }
   ],
   "source": [
    "# import algorithms machine learning\n",
    "from sklearn.naive_bayes import MultinomialNB\n",
    "from sklearn.ensemble import GradientBoostingClassifier\n",
    "from sklearn.linear_model import LogisticRegression\n",
    "from sklearn.tree import DecisionTreeClassifier\n",
    "from sklearn.ensemble import RandomForestClassifier\n",
    "from sklearn.svm import SVC\n",
    "\n",
    "# import cross validation\n",
    "from sklearn.model_selection import KFold\n",
    "from sklearn.model_selection import cross_val_score\n",
    "\n",
    "# Spot Check Algorithms\n",
    "models = []\n",
    "models.append(('NB', MultinomialNB()))\n",
    "models.append(('Boosting',GradientBoostingClassifier(random_state=0)))\n",
    "models.append(('LogisticRegression', LogisticRegression()))\n",
    "models.append(('DTree', DecisionTreeClassifier()))\n",
    "models.append(('RandomF', RandomForestClassifier()))\n",
    "models.append(('SVM', SVC()))\n",
    "\n",
    "# evaluate each model in turn\n",
    "results = []\n",
    "names = []\n",
    "\n",
    "#KFold (shuffle=True)\n",
    "for name, model in models:\n",
    "    kfold = KFold(n_splits=10, random_state=seed)\n",
    "    cv_results = cross_val_score(model, X_train, y_train, cv=kfold, scoring='accuracy')\n",
    "    results.append(cv_results)\n",
    "    names.append(name)\n",
    "    msg = \"%s: %f (%f)\" % (name, cv_results.mean()*100, cv_results.std())\n",
    "    print(msg)"
   ]
  },
  {
   "cell_type": "code",
   "execution_count": 20,
   "metadata": {},
   "outputs": [],
   "source": [
    "# import metrics\n",
    "from sklearn.metrics import classification_report, confusion_matrix, accuracy_score"
   ]
  },
  {
   "cell_type": "markdown",
   "metadata": {},
   "source": [
    "# NaiveBayes"
   ]
  },
  {
   "cell_type": "code",
   "execution_count": 22,
   "metadata": {},
   "outputs": [
    {
     "name": "stdout",
     "output_type": "stream",
     "text": [
      "[[244  20]\n",
      " [ 17 176]]\n",
      "             precision    recall  f1-score   support\n",
      "\n",
      "   negative       0.93      0.92      0.93       264\n",
      "   positive       0.90      0.91      0.90       193\n",
      "\n",
      "avg / total       0.92      0.92      0.92       457\n",
      "\n",
      "91.90371991247265\n"
     ]
    }
   ],
   "source": [
    "nv = MultinomialNB()\n",
    "nv.fit(X_train, y_train)\n",
    "predictions = nv.predict(X_test)\n",
    "print(confusion_matrix(y_test,predictions))\n",
    "print(classification_report(y_test,predictions))\n",
    "print(accuracy_score(y_test, predictions)*100)"
   ]
  },
  {
   "cell_type": "markdown",
   "metadata": {},
   "source": [
    "# GradientBoostingClassifier "
   ]
  },
  {
   "cell_type": "code",
   "execution_count": 23,
   "metadata": {},
   "outputs": [
    {
     "name": "stdout",
     "output_type": "stream",
     "text": [
      "[[250  14]\n",
      " [ 33 160]]\n",
      "             precision    recall  f1-score   support\n",
      "\n",
      "   negative       0.88      0.95      0.91       264\n",
      "   positive       0.92      0.83      0.87       193\n",
      "\n",
      "avg / total       0.90      0.90      0.90       457\n",
      "\n",
      "89.71553610503283\n"
     ]
    }
   ],
   "source": [
    "GBC = GradientBoostingClassifier(random_state=0)\n",
    "GBC.fit(X_train, y_train)\n",
    "predictions = GBC.predict(X_test)\n",
    "print(confusion_matrix(y_test,predictions))\n",
    "print(classification_report(y_test,predictions))\n",
    "print(accuracy_score(y_test, predictions)*100)"
   ]
  },
  {
   "cell_type": "markdown",
   "metadata": {},
   "source": [
    "# LogisticRegression"
   ]
  },
  {
   "cell_type": "code",
   "execution_count": 24,
   "metadata": {},
   "outputs": [
    {
     "name": "stdout",
     "output_type": "stream",
     "text": [
      "[[245  19]\n",
      " [ 21 172]]\n",
      "             precision    recall  f1-score   support\n",
      "\n",
      "   negative       0.92      0.93      0.92       264\n",
      "   positive       0.90      0.89      0.90       193\n",
      "\n",
      "avg / total       0.91      0.91      0.91       457\n",
      "\n",
      "91.2472647702407\n"
     ]
    }
   ],
   "source": [
    "MaxEntr = LogisticRegression()\n",
    "MaxEntr.fit(X_train, y_train)\n",
    "predictions = MaxEntr.predict(X_test)\n",
    "print(confusion_matrix(y_test,predictions))\n",
    "print(classification_report(y_test,predictions))\n",
    "print(accuracy_score(y_test, predictions)*100)"
   ]
  },
  {
   "cell_type": "markdown",
   "metadata": {},
   "source": [
    "#  DecisionTreeClassifier"
   ]
  },
  {
   "cell_type": "code",
   "execution_count": 25,
   "metadata": {},
   "outputs": [
    {
     "name": "stdout",
     "output_type": "stream",
     "text": [
      "[[222  42]\n",
      " [ 29 164]]\n",
      "             precision    recall  f1-score   support\n",
      "\n",
      "   negative       0.88      0.84      0.86       264\n",
      "   positive       0.80      0.85      0.82       193\n",
      "\n",
      "avg / total       0.85      0.84      0.85       457\n",
      "\n",
      "84.46389496717724\n"
     ]
    }
   ],
   "source": [
    "from sklearn.tree import DecisionTreeClassifier\n",
    "DTC = DecisionTreeClassifier()\n",
    "DTC.fit(X_train, y_train)\n",
    "predictions = DTC.predict(X_test)\n",
    "print(confusion_matrix(y_test,predictions))\n",
    "print(classification_report(y_test,predictions))\n",
    "print(accuracy_score(y_test, predictions)*100)"
   ]
  },
  {
   "cell_type": "markdown",
   "metadata": {},
   "source": [
    "# RandomForestClassifier"
   ]
  },
  {
   "cell_type": "code",
   "execution_count": 27,
   "metadata": {},
   "outputs": [
    {
     "name": "stdout",
     "output_type": "stream",
     "text": [
      "[[233  31]\n",
      " [ 22 171]]\n",
      "             precision    recall  f1-score   support\n",
      "\n",
      "   negative       0.91      0.88      0.90       264\n",
      "   positive       0.85      0.89      0.87       193\n",
      "\n",
      "avg / total       0.89      0.88      0.88       457\n",
      "\n",
      "88.40262582056893\n"
     ]
    }
   ],
   "source": [
    "rf = RandomForestClassifier() #n_estimators=510, random_state=42\n",
    "rf.fit(X_train, y_train)\n",
    "predictions = rf.predict(X_test)\n",
    "print(confusion_matrix(y_test,predictions))\n",
    "print(classification_report(y_test,predictions))\n",
    "print(accuracy_score(y_test, predictions)*100)"
   ]
  },
  {
   "cell_type": "markdown",
   "metadata": {},
   "source": [
    "# SVM"
   ]
  },
  {
   "cell_type": "code",
   "execution_count": 28,
   "metadata": {},
   "outputs": [
    {
     "name": "stdout",
     "output_type": "stream",
     "text": [
      "[[260   4]\n",
      " [ 83 110]]\n",
      "             precision    recall  f1-score   support\n",
      "\n",
      "   negative       0.76      0.98      0.86       264\n",
      "   positive       0.96      0.57      0.72       193\n",
      "\n",
      "avg / total       0.85      0.81      0.80       457\n",
      "\n",
      "80.96280087527352\n"
     ]
    }
   ],
   "source": [
    "from sklearn.svm import SVC #clf = svm.SVC(decision_function_shape='ovo')\n",
    "SVM = SVC()\n",
    "SVM.fit(X_train, y_train)\n",
    "predictions = SVM.predict(X_test)\n",
    "print(confusion_matrix(y_test,predictions))\n",
    "print(classification_report(y_test,predictions))\n",
    "print(accuracy_score(y_test, predictions)*100)"
   ]
  }
 ],
 "metadata": {
  "kernelspec": {
   "display_name": "Python 3",
   "language": "python",
   "name": "python3"
  },
  "language_info": {
   "codemirror_mode": {
    "name": "ipython",
    "version": 3
   },
   "file_extension": ".py",
   "mimetype": "text/x-python",
   "name": "python",
   "nbconvert_exporter": "python",
   "pygments_lexer": "ipython3",
   "version": "3.6.5"
  }
 },
 "nbformat": 4,
 "nbformat_minor": 2
}
